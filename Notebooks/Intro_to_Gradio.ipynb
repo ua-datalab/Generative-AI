{
  "cells": [
    {
      "cell_type": "markdown",
      "metadata": {
        "id": "hQXmNt5lLUho"
      },
      "source": [
        "# Introduction to Gradio\n",
        "\n",
        "Code based on the [official documentation](https://www.gradio.app/docs/gradio/blocks) of Gradio\n",
        "\n",
        "_Written by_: Enrique Noriega\n",
        "\n",
        "_Last edited_: 10/05/2024"
      ]
    },
    {
      "cell_type": "markdown",
      "metadata": {
        "id": "n-J9gVEPCz6T"
      },
      "source": [
        "Set up gradio and dependencies"
      ]
    },
    {
      "cell_type": "code",
      "execution_count": null,
      "metadata": {
        "colab": {
          "base_uri": "https://localhost:8080/"
        },
        "id": "4WMD7gpYCjxo",
        "outputId": "bf1cbf15-5a7a-4e8f-ed0f-347f7c19fa12"
      },
      "outputs": [
        {
          "name": "stdout",
          "output_type": "stream",
          "text": [
            "Collecting gradio==4.44.1\n",
            "  Downloading gradio-4.44.1-py3-none-any.whl.metadata (15 kB)\n",
            "Collecting aiofiles<24.0,>=22.0 (from gradio==4.44.1)\n",
            "  Using cached aiofiles-23.2.1-py3-none-any.whl.metadata (9.7 kB)\n",
            "Requirement already satisfied: anyio<5.0,>=3.0 in /Users/enoriega/github/Generative-AI/.conda/lib/python3.11/site-packages (from gradio==4.44.1) (4.4.0)\n",
            "Collecting fastapi<1.0 (from gradio==4.44.1)\n",
            "  Downloading fastapi-0.115.0-py3-none-any.whl.metadata (27 kB)\n",
            "Collecting ffmpy (from gradio==4.44.1)\n",
            "  Downloading ffmpy-0.4.0-py3-none-any.whl.metadata (2.9 kB)\n",
            "Collecting gradio-client==1.3.0 (from gradio==4.44.1)\n",
            "  Downloading gradio_client-1.3.0-py3-none-any.whl.metadata (7.1 kB)\n",
            "Requirement already satisfied: httpx>=0.24.1 in /Users/enoriega/github/Generative-AI/.conda/lib/python3.11/site-packages (from gradio==4.44.1) (0.27.2)\n",
            "Requirement already satisfied: huggingface-hub>=0.19.3 in /Users/enoriega/github/Generative-AI/.conda/lib/python3.11/site-packages (from gradio==4.44.1) (0.24.6)\n",
            "Collecting importlib-resources<7.0,>=1.3 (from gradio==4.44.1)\n",
            "  Downloading importlib_resources-6.4.5-py3-none-any.whl.metadata (4.0 kB)\n",
            "Requirement already satisfied: jinja2<4.0 in /Users/enoriega/github/Generative-AI/.conda/lib/python3.11/site-packages (from gradio==4.44.1) (3.1.4)\n",
            "Requirement already satisfied: markupsafe~=2.0 in /Users/enoriega/github/Generative-AI/.conda/lib/python3.11/site-packages (from gradio==4.44.1) (2.1.5)\n",
            "Requirement already satisfied: matplotlib~=3.0 in /Users/enoriega/github/Generative-AI/.conda/lib/python3.11/site-packages (from gradio==4.44.1) (3.9.2)\n",
            "Requirement already satisfied: numpy<3.0,>=1.0 in /Users/enoriega/github/Generative-AI/.conda/lib/python3.11/site-packages (from gradio==4.44.1) (1.26.4)\n",
            "Requirement already satisfied: orjson~=3.0 in /Users/enoriega/github/Generative-AI/.conda/lib/python3.11/site-packages (from gradio==4.44.1) (3.10.7)\n",
            "Requirement already satisfied: packaging in /Users/enoriega/github/Generative-AI/.conda/lib/python3.11/site-packages (from gradio==4.44.1) (24.1)\n",
            "Requirement already satisfied: pandas<3.0,>=1.0 in /Users/enoriega/github/Generative-AI/.conda/lib/python3.11/site-packages (from gradio==4.44.1) (2.2.2)\n",
            "Requirement already satisfied: pillow<11.0,>=8.0 in /Users/enoriega/github/Generative-AI/.conda/lib/python3.11/site-packages (from gradio==4.44.1) (10.4.0)\n",
            "Requirement already satisfied: pydantic>=2.0 in /Users/enoriega/github/Generative-AI/.conda/lib/python3.11/site-packages (from gradio==4.44.1) (2.9.0)\n",
            "Collecting pydub (from gradio==4.44.1)\n",
            "  Using cached pydub-0.25.1-py2.py3-none-any.whl.metadata (1.4 kB)\n",
            "Collecting python-multipart>=0.0.9 (from gradio==4.44.1)\n",
            "  Downloading python_multipart-0.0.12-py3-none-any.whl.metadata (1.9 kB)\n",
            "Requirement already satisfied: pyyaml<7.0,>=5.0 in /Users/enoriega/github/Generative-AI/.conda/lib/python3.11/site-packages (from gradio==4.44.1) (6.0.2)\n",
            "Collecting ruff>=0.2.2 (from gradio==4.44.1)\n",
            "  Downloading ruff-0.6.9-py3-none-macosx_11_0_arm64.whl.metadata (25 kB)\n",
            "Collecting semantic-version~=2.0 (from gradio==4.44.1)\n",
            "  Using cached semantic_version-2.10.0-py2.py3-none-any.whl.metadata (9.7 kB)\n",
            "Collecting tomlkit==0.12.0 (from gradio==4.44.1)\n",
            "  Using cached tomlkit-0.12.0-py3-none-any.whl.metadata (2.7 kB)\n",
            "Collecting typer<1.0,>=0.12 (from gradio==4.44.1)\n",
            "  Downloading typer-0.12.5-py3-none-any.whl.metadata (15 kB)\n",
            "Requirement already satisfied: typing-extensions~=4.0 in /Users/enoriega/github/Generative-AI/.conda/lib/python3.11/site-packages (from gradio==4.44.1) (4.12.2)\n",
            "Requirement already satisfied: urllib3~=2.0 in /Users/enoriega/github/Generative-AI/.conda/lib/python3.11/site-packages (from gradio==4.44.1) (2.2.2)\n",
            "Collecting uvicorn>=0.14.0 (from gradio==4.44.1)\n",
            "  Downloading uvicorn-0.31.0-py3-none-any.whl.metadata (6.6 kB)\n",
            "Requirement already satisfied: fsspec in /Users/enoriega/github/Generative-AI/.conda/lib/python3.11/site-packages (from gradio-client==1.3.0->gradio==4.44.1) (2024.9.0)\n",
            "Collecting websockets<13.0,>=10.0 (from gradio-client==1.3.0->gradio==4.44.1)\n",
            "  Using cached websockets-12.0-cp311-cp311-macosx_11_0_arm64.whl.metadata (6.6 kB)\n",
            "Requirement already satisfied: idna>=2.8 in /Users/enoriega/github/Generative-AI/.conda/lib/python3.11/site-packages (from anyio<5.0,>=3.0->gradio==4.44.1) (3.8)\n",
            "Requirement already satisfied: sniffio>=1.1 in /Users/enoriega/github/Generative-AI/.conda/lib/python3.11/site-packages (from anyio<5.0,>=3.0->gradio==4.44.1) (1.3.1)\n",
            "Collecting starlette<0.39.0,>=0.37.2 (from fastapi<1.0->gradio==4.44.1)\n",
            "  Downloading starlette-0.38.6-py3-none-any.whl.metadata (6.0 kB)\n",
            "Requirement already satisfied: certifi in /Users/enoriega/github/Generative-AI/.conda/lib/python3.11/site-packages (from httpx>=0.24.1->gradio==4.44.1) (2024.8.30)\n",
            "Requirement already satisfied: httpcore==1.* in /Users/enoriega/github/Generative-AI/.conda/lib/python3.11/site-packages (from httpx>=0.24.1->gradio==4.44.1) (1.0.5)\n",
            "Requirement already satisfied: h11<0.15,>=0.13 in /Users/enoriega/github/Generative-AI/.conda/lib/python3.11/site-packages (from httpcore==1.*->httpx>=0.24.1->gradio==4.44.1) (0.14.0)\n",
            "Requirement already satisfied: filelock in /Users/enoriega/github/Generative-AI/.conda/lib/python3.11/site-packages (from huggingface-hub>=0.19.3->gradio==4.44.1) (3.16.0)\n",
            "Requirement already satisfied: requests in /Users/enoriega/github/Generative-AI/.conda/lib/python3.11/site-packages (from huggingface-hub>=0.19.3->gradio==4.44.1) (2.32.3)\n",
            "Requirement already satisfied: tqdm>=4.42.1 in /Users/enoriega/github/Generative-AI/.conda/lib/python3.11/site-packages (from huggingface-hub>=0.19.3->gradio==4.44.1) (4.66.5)\n",
            "Requirement already satisfied: contourpy>=1.0.1 in /Users/enoriega/github/Generative-AI/.conda/lib/python3.11/site-packages (from matplotlib~=3.0->gradio==4.44.1) (1.3.0)\n",
            "Requirement already satisfied: cycler>=0.10 in /Users/enoriega/github/Generative-AI/.conda/lib/python3.11/site-packages (from matplotlib~=3.0->gradio==4.44.1) (0.12.1)\n",
            "Requirement already satisfied: fonttools>=4.22.0 in /Users/enoriega/github/Generative-AI/.conda/lib/python3.11/site-packages (from matplotlib~=3.0->gradio==4.44.1) (4.53.1)\n",
            "Requirement already satisfied: kiwisolver>=1.3.1 in /Users/enoriega/github/Generative-AI/.conda/lib/python3.11/site-packages (from matplotlib~=3.0->gradio==4.44.1) (1.4.7)\n",
            "Requirement already satisfied: pyparsing>=2.3.1 in /Users/enoriega/github/Generative-AI/.conda/lib/python3.11/site-packages (from matplotlib~=3.0->gradio==4.44.1) (3.1.4)\n",
            "Requirement already satisfied: python-dateutil>=2.7 in /Users/enoriega/github/Generative-AI/.conda/lib/python3.11/site-packages (from matplotlib~=3.0->gradio==4.44.1) (2.9.0)\n",
            "Requirement already satisfied: pytz>=2020.1 in /Users/enoriega/github/Generative-AI/.conda/lib/python3.11/site-packages (from pandas<3.0,>=1.0->gradio==4.44.1) (2024.2)\n",
            "Requirement already satisfied: tzdata>=2022.7 in /Users/enoriega/github/Generative-AI/.conda/lib/python3.11/site-packages (from pandas<3.0,>=1.0->gradio==4.44.1) (2024.1)\n",
            "Requirement already satisfied: annotated-types>=0.4.0 in /Users/enoriega/github/Generative-AI/.conda/lib/python3.11/site-packages (from pydantic>=2.0->gradio==4.44.1) (0.7.0)\n",
            "Requirement already satisfied: pydantic-core==2.23.2 in /Users/enoriega/github/Generative-AI/.conda/lib/python3.11/site-packages (from pydantic>=2.0->gradio==4.44.1) (2.23.2)\n",
            "Requirement already satisfied: click>=8.0.0 in /Users/enoriega/github/Generative-AI/.conda/lib/python3.11/site-packages (from typer<1.0,>=0.12->gradio==4.44.1) (8.1.7)\n",
            "Collecting shellingham>=1.3.0 (from typer<1.0,>=0.12->gradio==4.44.1)\n",
            "  Using cached shellingham-1.5.4-py2.py3-none-any.whl.metadata (3.5 kB)\n",
            "Requirement already satisfied: rich>=10.11.0 in /Users/enoriega/github/Generative-AI/.conda/lib/python3.11/site-packages (from typer<1.0,>=0.12->gradio==4.44.1) (13.8.1)\n",
            "Requirement already satisfied: six>=1.5 in /Users/enoriega/github/Generative-AI/.conda/lib/python3.11/site-packages (from python-dateutil>=2.7->matplotlib~=3.0->gradio==4.44.1) (1.16.0)\n",
            "Requirement already satisfied: markdown-it-py>=2.2.0 in /Users/enoriega/github/Generative-AI/.conda/lib/python3.11/site-packages (from rich>=10.11.0->typer<1.0,>=0.12->gradio==4.44.1) (3.0.0)\n",
            "Requirement already satisfied: pygments<3.0.0,>=2.13.0 in /Users/enoriega/github/Generative-AI/.conda/lib/python3.11/site-packages (from rich>=10.11.0->typer<1.0,>=0.12->gradio==4.44.1) (2.18.0)\n",
            "Requirement already satisfied: charset-normalizer<4,>=2 in /Users/enoriega/github/Generative-AI/.conda/lib/python3.11/site-packages (from requests->huggingface-hub>=0.19.3->gradio==4.44.1) (3.3.2)\n",
            "Requirement already satisfied: mdurl~=0.1 in /Users/enoriega/github/Generative-AI/.conda/lib/python3.11/site-packages (from markdown-it-py>=2.2.0->rich>=10.11.0->typer<1.0,>=0.12->gradio==4.44.1) (0.1.2)\n",
            "Downloading gradio-4.44.1-py3-none-any.whl (18.1 MB)\n",
            "\u001b[2K   \u001b[90m━━━━━━━━━━━━━━━━━━━━━━━━━━━━━━━━━━━━━━━━\u001b[0m \u001b[32m18.1/18.1 MB\u001b[0m \u001b[31m63.6 MB/s\u001b[0m eta \u001b[36m0:00:00\u001b[0ma \u001b[36m0:00:01\u001b[0m\n",
            "\u001b[?25hDownloading gradio_client-1.3.0-py3-none-any.whl (318 kB)\n",
            "Using cached tomlkit-0.12.0-py3-none-any.whl (37 kB)\n",
            "Using cached aiofiles-23.2.1-py3-none-any.whl (15 kB)\n",
            "Downloading fastapi-0.115.0-py3-none-any.whl (94 kB)\n",
            "Downloading importlib_resources-6.4.5-py3-none-any.whl (36 kB)\n",
            "Downloading python_multipart-0.0.12-py3-none-any.whl (23 kB)\n",
            "Downloading ruff-0.6.9-py3-none-macosx_11_0_arm64.whl (9.7 MB)\n",
            "\u001b[2K   \u001b[90m━━━━━━━━━━━━━━━━━━━━━━━━━━━━━━━━━━━━━━━━\u001b[0m \u001b[32m9.7/9.7 MB\u001b[0m \u001b[31m70.5 MB/s\u001b[0m eta \u001b[36m0:00:00\u001b[0m\n",
            "\u001b[?25hUsing cached semantic_version-2.10.0-py2.py3-none-any.whl (15 kB)\n",
            "Downloading typer-0.12.5-py3-none-any.whl (47 kB)\n",
            "Downloading uvicorn-0.31.0-py3-none-any.whl (63 kB)\n",
            "Downloading ffmpy-0.4.0-py3-none-any.whl (5.8 kB)\n",
            "Using cached pydub-0.25.1-py2.py3-none-any.whl (32 kB)\n",
            "Using cached shellingham-1.5.4-py2.py3-none-any.whl (9.8 kB)\n",
            "Downloading starlette-0.38.6-py3-none-any.whl (71 kB)\n",
            "Using cached websockets-12.0-cp311-cp311-macosx_11_0_arm64.whl (121 kB)\n",
            "Installing collected packages: pydub, websockets, uvicorn, tomlkit, shellingham, semantic-version, ruff, python-multipart, importlib-resources, ffmpy, aiofiles, starlette, typer, gradio-client, fastapi, gradio\n",
            "Successfully installed aiofiles-23.2.1 fastapi-0.115.0 ffmpy-0.4.0 gradio-4.44.1 gradio-client-1.3.0 importlib-resources-6.4.5 pydub-0.25.1 python-multipart-0.0.12 ruff-0.6.9 semantic-version-2.10.0 shellingham-1.5.4 starlette-0.38.6 tomlkit-0.12.0 typer-0.12.5 uvicorn-0.31.0 websockets-12.0\n",
            "Note: you may need to restart the kernel to use updated packages.\n"
          ]
        }
      ],
      "source": [
        "%pip install gradio==4.44.1 #https://gradio-builds.s3.amazonaws.com/a0c487cd57a217775f0d1bc77c041b7cd516cc8a/gradio-3.41.2-py3-none-any.whl"
      ]
    },
    {
      "cell_type": "code",
      "execution_count": null,
      "metadata": {
        "colab": {
          "base_uri": "https://localhost:8080/"
        },
        "id": "a6PQws7RKWei",
        "outputId": "6d71be9e-0041-42b4-a6a8-7d9ed3439044"
      },
      "outputs": [
        {
          "name": "stdout",
          "output_type": "stream",
          "text": [
            "Collecting transformers\n",
            "  Downloading transformers-4.45.1-py3-none-any.whl.metadata (44 kB)\n",
            "Requirement already satisfied: filelock in /Users/enoriega/github/Generative-AI/.conda/lib/python3.11/site-packages (from transformers) (3.16.0)\n",
            "Requirement already satisfied: huggingface-hub<1.0,>=0.23.2 in /Users/enoriega/github/Generative-AI/.conda/lib/python3.11/site-packages (from transformers) (0.24.6)\n",
            "Requirement already satisfied: numpy>=1.17 in /Users/enoriega/github/Generative-AI/.conda/lib/python3.11/site-packages (from transformers) (1.26.4)\n",
            "Requirement already satisfied: packaging>=20.0 in /Users/enoriega/github/Generative-AI/.conda/lib/python3.11/site-packages (from transformers) (24.1)\n",
            "Requirement already satisfied: pyyaml>=5.1 in /Users/enoriega/github/Generative-AI/.conda/lib/python3.11/site-packages (from transformers) (6.0.2)\n",
            "Requirement already satisfied: regex!=2019.12.17 in /Users/enoriega/github/Generative-AI/.conda/lib/python3.11/site-packages (from transformers) (2024.7.24)\n",
            "Requirement already satisfied: requests in /Users/enoriega/github/Generative-AI/.conda/lib/python3.11/site-packages (from transformers) (2.32.3)\n",
            "Collecting safetensors>=0.4.1 (from transformers)\n",
            "  Downloading safetensors-0.4.5-cp311-cp311-macosx_11_0_arm64.whl.metadata (3.8 kB)\n",
            "Collecting tokenizers<0.21,>=0.20 (from transformers)\n",
            "  Downloading tokenizers-0.20.0-cp311-cp311-macosx_11_0_arm64.whl.metadata (6.7 kB)\n",
            "Requirement already satisfied: tqdm>=4.27 in /Users/enoriega/github/Generative-AI/.conda/lib/python3.11/site-packages (from transformers) (4.66.5)\n",
            "Requirement already satisfied: fsspec>=2023.5.0 in /Users/enoriega/github/Generative-AI/.conda/lib/python3.11/site-packages (from huggingface-hub<1.0,>=0.23.2->transformers) (2024.9.0)\n",
            "Requirement already satisfied: typing-extensions>=3.7.4.3 in /Users/enoriega/github/Generative-AI/.conda/lib/python3.11/site-packages (from huggingface-hub<1.0,>=0.23.2->transformers) (4.12.2)\n",
            "Requirement already satisfied: charset-normalizer<4,>=2 in /Users/enoriega/github/Generative-AI/.conda/lib/python3.11/site-packages (from requests->transformers) (3.3.2)\n",
            "Requirement already satisfied: idna<4,>=2.5 in /Users/enoriega/github/Generative-AI/.conda/lib/python3.11/site-packages (from requests->transformers) (3.8)\n",
            "Requirement already satisfied: urllib3<3,>=1.21.1 in /Users/enoriega/github/Generative-AI/.conda/lib/python3.11/site-packages (from requests->transformers) (2.2.2)\n",
            "Requirement already satisfied: certifi>=2017.4.17 in /Users/enoriega/github/Generative-AI/.conda/lib/python3.11/site-packages (from requests->transformers) (2024.8.30)\n",
            "Downloading transformers-4.45.1-py3-none-any.whl (9.9 MB)\n",
            "\u001b[2K   \u001b[90m━━━━━━━━━━━━━━━━━━━━━━━━━━━━━━━━━━━━━━━━\u001b[0m \u001b[32m9.9/9.9 MB\u001b[0m \u001b[31m9.1 MB/s\u001b[0m eta \u001b[36m0:00:00\u001b[0ma \u001b[36m0:00:01\u001b[0m\n",
            "\u001b[?25hDownloading safetensors-0.4.5-cp311-cp311-macosx_11_0_arm64.whl (381 kB)\n",
            "Downloading tokenizers-0.20.0-cp311-cp311-macosx_11_0_arm64.whl (2.5 MB)\n",
            "\u001b[2K   \u001b[90m━━━━━━━━━━━━━━━━━━━━━━━━━━━━━━━━━━━━━━━━\u001b[0m \u001b[32m2.5/2.5 MB\u001b[0m \u001b[31m10.4 MB/s\u001b[0m eta \u001b[36m0:00:00\u001b[0ma \u001b[36m0:00:01\u001b[0m\n",
            "\u001b[?25hInstalling collected packages: safetensors, tokenizers, transformers\n",
            "Successfully installed safetensors-0.4.5 tokenizers-0.20.0 transformers-4.45.1\n",
            "Note: you may need to restart the kernel to use updated packages.\n"
          ]
        }
      ],
      "source": [
        "%pip install transformers"
      ]
    },
    {
      "cell_type": "markdown",
      "metadata": {
        "id": "QS-JdhWI5ZKJ"
      },
      "source": [
        "## Interface API"
      ]
    },
    {
      "cell_type": "markdown",
      "metadata": {
        "id": "ZBpJY6-VLlt7"
      },
      "source": [
        "Gradio is a rapid prototype UI library for python. It is designed to be able to quickly and easily build machine learning application demos, but it will work for any other purpose as well."
      ]
    },
    {
      "cell_type": "markdown",
      "metadata": {
        "id": "vk9fTVdqL0mi"
      },
      "source": [
        "The development _model_ of Gradio is to provide __Interface__ to an arbitrary python function.\n",
        "\n",
        "Consider the following toy function below."
      ]
    },
    {
      "cell_type": "code",
      "execution_count": null,
      "metadata": {
        "id": "bFEonoSqMECs"
      },
      "outputs": [],
      "source": [
        "def greet(name):\n",
        "    \"\"\" This is a sample hello world function \"\"\"\n",
        "\n",
        "    return f\"Greetings, {name} \""
      ]
    },
    {
      "cell_type": "markdown",
      "metadata": {
        "id": "UjEBTFIIMNOL"
      },
      "source": [
        "This function takes one `string` argument, and returns a greeting message.\n",
        "\n",
        "With Gradio, we can create a __GUI__ around it, let's do it."
      ]
    },
    {
      "cell_type": "markdown",
      "metadata": {
        "id": "e48t_VRiKYxr"
      },
      "source": [
        "Load the gradio jupyter extension for this demo"
      ]
    },
    {
      "cell_type": "code",
      "execution_count": null,
      "metadata": {
        "id": "cH8D0wrACsmt"
      },
      "outputs": [],
      "source": [
        "%load_ext gradio"
      ]
    },
    {
      "cell_type": "code",
      "execution_count": null,
      "metadata": {
        "id": "_0zusg52DE2C"
      },
      "outputs": [],
      "source": [
        "import gradio as gr"
      ]
    },
    {
      "cell_type": "code",
      "execution_count": null,
      "metadata": {
        "colab": {
          "base_uri": "https://localhost:8080/",
          "height": 618
        },
        "id": "viUdaNLGMsxJ",
        "outputId": "2c4a094e-ad4a-4e46-dc09-e3155b443113"
      },
      "outputs": [
        {
          "data": {
            "text/html": [
              "<div><iframe src=\"http://127.0.0.1:7860/\" width=\"100%\" height=\"500\" allow=\"autoplay; camera; microphone; clipboard-read; clipboard-write;\" frameborder=\"0\" allowfullscreen></iframe></div>"
            ],
            "text/plain": [
              "<IPython.core.display.HTML object>"
            ]
          },
          "execution_count": 67,
          "metadata": {},
          "output_type": "execute_result"
        }
      ],
      "source": [
        "%%blocks\n",
        "# This is a handy magic command\n",
        "\n",
        "# Our interface  wraps the greet function\n",
        "\n",
        "demo = gr.Interface(\n",
        "    fn=greet,             # Here, we are wiring the function to the interface\n",
        "    inputs=[\"text\"],      # Specify the input types\n",
        "    outputs=[\"text\"],     # Same, for output\n",
        ")\n"
      ]
    },
    {
      "cell_type": "markdown",
      "metadata": {
        "id": "Fg_UqL0wNb-D"
      },
      "source": [
        "Observe how we have web controls rendered for the input and output, and all the \"wiring\" is done for us.\n",
        "\n",
        "There are more control types."
      ]
    },
    {
      "cell_type": "code",
      "execution_count": null,
      "metadata": {
        "colab": {
          "base_uri": "https://localhost:8080/",
          "height": 546
        },
        "id": "3IoNQuB6DCrx",
        "outputId": "7162bcfc-ba08-4b5c-e7e5-bee545e56f3b"
      },
      "outputs": [
        {
          "data": {
            "text/html": [
              "<div><iframe src=\"http://127.0.0.1:7860/\" width=\"100%\" height=\"500\" allow=\"autoplay; camera; microphone; clipboard-read; clipboard-write;\" frameborder=\"0\" allowfullscreen></iframe></div>"
            ],
            "text/plain": [
              "<IPython.core.display.HTML object>"
            ]
          },
          "execution_count": 7,
          "metadata": {},
          "output_type": "execute_result"
        }
      ],
      "source": [
        "%%blocks\n",
        "\n",
        "def greet(name, intensity):\n",
        "    return \"Hello, \" + name + \"!\" * intensity\n",
        "\n",
        "demo = gr.Interface(\n",
        "    fn=greet,\n",
        "    inputs=[\"text\", gr.Slider(value=2, minimum=1, maximum=10, step=1)],\n",
        "    outputs=[gr.Textbox(label=\"greeting\", lines=3)],\n",
        ")\n",
        "\n"
      ]
    },
    {
      "cell_type": "markdown",
      "metadata": {
        "id": "XEbfyJPbN9yG"
      },
      "source": [
        "Suppose you had a more complex function, with multiple outputs as well. In the example below, we define a function that takes a string, boolean, and number, and returns a string and number."
      ]
    },
    {
      "cell_type": "code",
      "execution_count": null,
      "metadata": {
        "colab": {
          "base_uri": "https://localhost:8080/",
          "height": 546
        },
        "id": "rVtaEOJMOBD4",
        "outputId": "c7ee4c21-80db-46c7-ea54-3cf88ea99716"
      },
      "outputs": [
        {
          "data": {
            "text/html": [
              "<div><iframe src=\"http://127.0.0.1:7860/\" width=\"100%\" height=\"500\" allow=\"autoplay; camera; microphone; clipboard-read; clipboard-write;\" frameborder=\"0\" allowfullscreen></iframe></div>"
            ],
            "text/plain": [
              "<IPython.core.display.HTML object>"
            ]
          },
          "execution_count": 8,
          "metadata": {},
          "output_type": "execute_result"
        }
      ],
      "source": [
        "%%blocks\n",
        "\n",
        "def greet(name, is_morning, temperature):\n",
        "    salutation = \"Good morning\" if is_morning else \"Good evening\"\n",
        "    greeting = f\"{salutation} {name}. It is {temperature} degrees today\"\n",
        "    celsius = (temperature - 32) * 5 / 9\n",
        "    return greeting, round(celsius, 2)\n",
        "\n",
        "demo = gr.Interface(\n",
        "    fn=greet,\n",
        "    inputs=[\"text\", \"checkbox\", gr.Slider(0, 100)],\n",
        "    outputs=[\"text\", \"number\"],\n",
        ")"
      ]
    },
    {
      "cell_type": "markdown",
      "metadata": {
        "id": "8Gi_LoJyPBlL"
      },
      "source": [
        "Gradio supports many types of components, such as Image, DataFrame, Video, or Label. Let's try an image-to-image function to get a feel for these!"
      ]
    },
    {
      "cell_type": "code",
      "execution_count": null,
      "metadata": {
        "colab": {
          "base_uri": "https://localhost:8080/",
          "height": 648
        },
        "id": "Bp_JFQ-jPFn9",
        "outputId": "5f59bb81-c364-4374-edaa-9da99f242d5e"
      },
      "outputs": [
        {
          "name": "stdout",
          "output_type": "stream",
          "text": [
            "Running on local URL:  http://127.0.0.1:7861\n",
            "\n",
            "To create a public link, set `share=True` in `launch()`.\n"
          ]
        },
        {
          "data": {
            "text/html": [
              "<div><iframe src=\"http://127.0.0.1:7861/\" width=\"100%\" height=\"500\" allow=\"autoplay; camera; microphone; clipboard-read; clipboard-write;\" frameborder=\"0\" allowfullscreen></iframe></div>"
            ],
            "text/plain": [
              "<IPython.core.display.HTML object>"
            ]
          },
          "metadata": {},
          "output_type": "display_data"
        },
        {
          "data": {
            "text/plain": []
          },
          "execution_count": 9,
          "metadata": {},
          "output_type": "execute_result"
        },
        {
          "name": "stdout",
          "output_type": "stream",
          "text": [
            "Hola\n"
          ]
        }
      ],
      "source": [
        "\n",
        "import numpy as np\n",
        "\n",
        "def sepia(input_img):\n",
        "    print(\"Hola\")\n",
        "    sepia_filter = np.array([\n",
        "        [0.393, 0.769, 0.189],\n",
        "        [0.349, 0.686, 0.168],\n",
        "        [0.272, 0.534, 0.131]\n",
        "    ])\n",
        "    sepia_img = input_img.dot(sepia_filter.T)\n",
        "    sepia_img /= sepia_img.max()\n",
        "    return sepia_img\n",
        "\n",
        "demo = gr.Interface(sepia, gr.Image(), \"image\")\n",
        "demo.launch()"
      ]
    },
    {
      "cell_type": "markdown",
      "metadata": {
        "id": "wCIovGSyRDUm"
      },
      "source": [
        "You can provide example data that a user can easily load into Interface. This can be helpful to demonstrate the types of inputs the model expects, as well as to provide a way to explore your dataset in conjunction with your model."
      ]
    },
    {
      "cell_type": "code",
      "execution_count": null,
      "metadata": {
        "colab": {
          "base_uri": "https://localhost:8080/",
          "height": 546
        },
        "id": "NINqgJxLREYv",
        "outputId": "c0f94153-f856-4f3e-be1f-db834609f334"
      },
      "outputs": [
        {
          "data": {
            "text/html": [
              "<div><iframe src=\"http://127.0.0.1:7860/\" width=\"100%\" height=\"500\" allow=\"autoplay; camera; microphone; clipboard-read; clipboard-write;\" frameborder=\"0\" allowfullscreen></iframe></div>"
            ],
            "text/plain": [
              "<IPython.core.display.HTML object>"
            ]
          },
          "execution_count": 10,
          "metadata": {},
          "output_type": "execute_result"
        }
      ],
      "source": [
        "%%blocks\n",
        "\n",
        "def calculator(num1, operation, num2):\n",
        "    if operation == \"add\":\n",
        "        return num1 + num2\n",
        "    elif operation == \"subtract\":\n",
        "        return num1 - num2\n",
        "    elif operation == \"multiply\":\n",
        "        return num1 * num2\n",
        "    elif operation == \"divide\":\n",
        "        if num2 == 0:\n",
        "            raise gr.Error(\"Cannot divide by zero!\")\n",
        "        return num1 / num2\n",
        "\n",
        "demo = gr.Interface(\n",
        "    calculator,\n",
        "    [\n",
        "        \"number\",\n",
        "        gr.Radio([\"add\", \"subtract\", \"multiply\", \"divide\"]),\n",
        "        \"number\"\n",
        "    ],\n",
        "    \"number\",\n",
        "    examples=[\n",
        "        [45, \"add\", 3],\n",
        "        [3.14, \"divide\", 2],\n",
        "        [144, \"multiply\", 2.5],\n",
        "        [0, \"subtract\", 1.2],\n",
        "    ],\n",
        "    title=\"Toy Calculator\",\n",
        "    description=\"Here's a sample toy calculator.\",\n",
        ")"
      ]
    },
    {
      "cell_type": "markdown",
      "metadata": {
        "id": "uIcaGQo3Rjni"
      },
      "source": [
        "Now, let's actually use _machine learning_ and create an interface"
      ]
    },
    {
      "cell_type": "code",
      "execution_count": null,
      "metadata": {
        "id": "iYquNRNDRqV6"
      },
      "outputs": [],
      "source": [
        "from transformers import pipeline"
      ]
    },
    {
      "cell_type": "code",
      "execution_count": null,
      "metadata": {
        "colab": {
          "base_uri": "https://localhost:8080/",
          "height": 361,
          "referenced_widgets": [
            "7e72aa49768046d4b21051cdb6f3fcb6",
            "b4dd2f26424544d8b6d8c9d0dba7d105",
            "88bf01b6de5948eb88eba14baad394bb",
            "903d1fc8dd9c4394b452aab478afed15",
            "467c841cc441469eb9b6df981a16dc0d",
            "244295c42dc14c3dba3558e09945abb6",
            "d80eb532ef1a47fe87feba1c21333f3e",
            "ac6167fabe9e47acaed7041156ba6512",
            "feca8fe34ef74ea4afffdb249ffc9a74",
            "7f25d2d0d5a3491bb00dd08a424fca2c",
            "6cff460037734d7c9e658645352913f2",
            "03f4e8ad96d645e6a8f0fc03e7ffa659",
            "fc69d93e1e7e45ffbb1f4c7ae9dab8b3",
            "76ba4b515596409887d654fda5e8dcc5",
            "882bd06af35545328eb0d5168b472c00",
            "36cfc328b2b74c27ab7cf3cc2799b818",
            "d9105711034f48979508daafb3d009ff",
            "8001afd62a42469aa6b7d2265003ca13",
            "8fb1dadfa396482e81de6f2591bfc4e9",
            "59a16782372a43e89e6199a47e300ecb",
            "0a523a210cf5463eb2e6e45857662570",
            "e9a49ff007b641ae8453f10b2131a5f8",
            "15b23607ee2f45d396010ea18b63b0a1",
            "f0f459032e304533bb3ec9839bf61d39",
            "6a080ccee370486cb14115a79d0659c4",
            "36b7602f70ee45099a8ca4ff56b2d59b",
            "790d61d26e68426c81e7baf17663cfa8",
            "2f86821c107b4b6996554ff96ad8ebb7",
            "80b69dac00074cdb8a7334d9106623ea",
            "fbb64f7614a548429858cb982fa3980a",
            "47b31b67ad784d75bb0db531f5dc8975",
            "6255681197074c80b9acc88e6f5014ba",
            "a65aba32324e4bcfbbe18ea3b6ce3e05",
            "43486d801b204c1488dba33d9b5b1b6a",
            "b57a7b2ef15842018853f9814e5caa9d",
            "517a8b96db064046b866e9c009b442c7",
            "bfc29c99f0e441088b926766d5cec4b5",
            "915fea9fdf034144a183feb7bec638c2",
            "28e15418b08f49008e91e2d07fc54269",
            "e1990b3335d24c1b93977e8b7b956c18",
            "1116a30cd92a471db520ed9dd4044282",
            "d96380ba491b4e4db0d203636042a98e",
            "44c9952345704039b8935376d547b813",
            "ebfb5d3bfa894a9080827b750b3ac6d3",
            "ede290a718434ebdac24efe00fd9b577",
            "4f2d617ded0945ae9365c5b6105bb7de",
            "b56a333559c0497ab34f2cf89b0a6d29",
            "a02fd3c1b164415da1678127d58348fe"
          ]
        },
        "id": "BFnxhGUBRt2U",
        "outputId": "b88d61a7-d1b0-4352-ac44-c5f4c0b344a0"
      },
      "outputs": [
        {
          "name": "stderr",
          "output_type": "stream",
          "text": [
            "No model was supplied, defaulted to distilbert/distilbert-base-uncased-finetuned-sst-2-english and revision 714eb0f (https://huggingface.co/distilbert/distilbert-base-uncased-finetuned-sst-2-english).\n",
            "Using a pipeline without specifying a model name and revision in production is not recommended.\n"
          ]
        },
        {
          "data": {
            "application/vnd.jupyter.widget-view+json": {
              "model_id": "ede290a718434ebdac24efe00fd9b577",
              "version_major": 2,
              "version_minor": 0
            },
            "text/plain": [
              "config.json:   0%|          | 0.00/629 [00:00<?, ?B/s]"
            ]
          },
          "metadata": {},
          "output_type": "display_data"
        },
        {
          "data": {
            "application/vnd.jupyter.widget-view+json": {
              "model_id": "4f2d617ded0945ae9365c5b6105bb7de",
              "version_major": 2,
              "version_minor": 0
            },
            "text/plain": [
              "model.safetensors:   0%|          | 0.00/268M [00:00<?, ?B/s]"
            ]
          },
          "metadata": {},
          "output_type": "display_data"
        },
        {
          "data": {
            "application/vnd.jupyter.widget-view+json": {
              "model_id": "b56a333559c0497ab34f2cf89b0a6d29",
              "version_major": 2,
              "version_minor": 0
            },
            "text/plain": [
              "tokenizer_config.json:   0%|          | 0.00/48.0 [00:00<?, ?B/s]"
            ]
          },
          "metadata": {},
          "output_type": "display_data"
        },
        {
          "data": {
            "application/vnd.jupyter.widget-view+json": {
              "model_id": "a02fd3c1b164415da1678127d58348fe",
              "version_major": 2,
              "version_minor": 0
            },
            "text/plain": [
              "vocab.txt:   0%|          | 0.00/232k [00:00<?, ?B/s]"
            ]
          },
          "metadata": {},
          "output_type": "display_data"
        },
        {
          "name": "stderr",
          "output_type": "stream",
          "text": [
            "Hardware accelerator e.g. GPU is available in the environment, but no `device` argument is passed to the `Pipeline` object. Model will be on CPU.\n"
          ]
        },
        {
          "data": {
            "text/plain": [
              "('POSITIVE', 0.9998660087585449)"
            ]
          },
          "execution_count": 13,
          "metadata": {},
          "output_type": "execute_result"
        }
      ],
      "source": [
        "classifier = pipeline(\"text-classification\")\n",
        "\n",
        "def classify(input):\n",
        "  results = classifier(input)\n",
        "  return results[0]['label'], results[0]['score']\n",
        "\n",
        "classify(\"This movie was awesome\")"
      ]
    },
    {
      "cell_type": "code",
      "execution_count": null,
      "metadata": {
        "colab": {
          "base_uri": "https://localhost:8080/",
          "height": 546
        },
        "id": "hu0YItzwc3NE",
        "outputId": "730beec6-00a6-46e7-c77f-11d81eaaa1db"
      },
      "outputs": [
        {
          "data": {
            "text/html": [
              "<div><iframe src=\"http://127.0.0.1:7860/\" width=\"100%\" height=\"500\" allow=\"autoplay; camera; microphone; clipboard-read; clipboard-write;\" frameborder=\"0\" allowfullscreen></iframe></div>"
            ],
            "text/plain": [
              "<IPython.core.display.HTML object>"
            ]
          },
          "execution_count": 14,
          "metadata": {},
          "output_type": "execute_result"
        }
      ],
      "source": [
        "%%blocks\n",
        "\n",
        "demo = gr.Interface(\n",
        "    classify,\n",
        "    inputs=[\n",
        "        \"text\"\n",
        "    ],\n",
        "    outputs=[\"text\",\"number\"],\n",
        "\n",
        "    title=\"DistillBERT classifier\",\n",
        "    description=\"Type some text, we will tell you whether its positive or negative\",\n",
        ")"
      ]
    },
    {
      "cell_type": "markdown",
      "metadata": {
        "id": "8fxhghm2iWfG"
      },
      "source": [
        "## Blocks API\n",
        "\n",
        "When you need finer grained control of the layout and the components, you can use the _Blocks_ api instead of the interface.\n",
        "\n",
        "With the blocks api, you declaratively define which controls you are going to display and it is your responsability as developer to connect each control with the corresponding inputs and outputs"
      ]
    },
    {
      "cell_type": "code",
      "execution_count": null,
      "metadata": {
        "colab": {
          "base_uri": "https://localhost:8080/",
          "height": 546
        },
        "id": "NKuql7SGpmmH",
        "outputId": "7c44a2ca-4ab1-4a68-b644-77f29f40d177"
      },
      "outputs": [
        {
          "data": {
            "text/html": [
              "<div><iframe src=\"http://127.0.0.1:7860/\" width=\"100%\" height=\"500\" allow=\"autoplay; camera; microphone; clipboard-read; clipboard-write;\" frameborder=\"0\" allowfullscreen></iframe></div>"
            ],
            "text/plain": [
              "<IPython.core.display.HTML object>"
            ]
          },
          "execution_count": 15,
          "metadata": {},
          "output_type": "execute_result"
        }
      ],
      "source": [
        "%%blocks\n",
        "\n",
        "def update(name):\n",
        "    return f\"Welcome to Gradio, {name}!\"\n",
        "\n",
        "with gr.Blocks() as demo:\n",
        "    gr.Markdown(\"Start typing below and then click **Run** to see the output.\")\n",
        "    with gr.Row():\n",
        "        inp = gr.Textbox(placeholder=\"What is your name?\")\n",
        "        out = gr.Textbox()\n",
        "    btn = gr.Button(\"Run\")\n",
        "    btn.click(fn=update, inputs=inp, outputs=out)"
      ]
    },
    {
      "cell_type": "markdown",
      "metadata": {
        "id": "ZLTSQKtKqDAO"
      },
      "source": [
        "You can see how we have precise control over the control types, their positioning on the UI and the binding of the events."
      ]
    },
    {
      "cell_type": "markdown",
      "metadata": {
        "id": "xGfe4lrEqbz4"
      },
      "source": [
        "## Chat Interface\n",
        "\n",
        "A very popular use case for Gradio is building chat bot applications. Gradio contains a pre-built component that handles the standard features of a chatbot, ready to be connected to your LLM of choice via your prefered programming framework.\n",
        "\n",
        "Let's take a look at the `ChatInterface` control."
      ]
    },
    {
      "cell_type": "code",
      "execution_count": null,
      "metadata": {
        "colab": {
          "base_uri": "https://localhost:8080/",
          "height": 546
        },
        "id": "virPc3IErgR6",
        "outputId": "0526c48a-9320-4712-c925-59472ee1a5f6"
      },
      "outputs": [
        {
          "data": {
            "text/html": [
              "<div><iframe src=\"http://127.0.0.1:7860/\" width=\"100%\" height=\"500\" allow=\"autoplay; camera; microphone; clipboard-read; clipboard-write;\" frameborder=\"0\" allowfullscreen></iframe></div>"
            ],
            "text/plain": [
              "<IPython.core.display.HTML object>"
            ]
          },
          "execution_count": 19,
          "metadata": {},
          "output_type": "execute_result"
        },
        {
          "name": "stdout",
          "output_type": "stream",
          "text": [
            "You upvoted this response: yes\n",
            "You downvoted this response: yes\n",
            "You upvoted this response: yes\n"
          ]
        }
      ],
      "source": [
        "%%blocks\n",
        "\n",
        "def yes(message, history):\n",
        "    return \"yes\"\n",
        "\n",
        "def vote(data: gr.LikeData):\n",
        "    if data.liked:\n",
        "        print(\"You upvoted this response: \" + data.value)\n",
        "    else:\n",
        "        print(\"You downvoted this response: \" + data.value)\n",
        "\n",
        "with gr.Blocks() as demo:\n",
        "    chatbot = gr.Chatbot(placeholder=\"<strong>Your Personal Yes-Man</strong><br>Ask Me Anything\")\n",
        "    chatbot.like(vote, None, None)\n",
        "    gr.ChatInterface(fn=yes, chatbot=chatbot)"
      ]
    },
    {
      "cell_type": "markdown",
      "metadata": {
        "id": "T-QU_C3e5ZKL"
      },
      "source": [
        "Let's build a real chatbot using Verde AI"
      ]
    },
    {
      "cell_type": "code",
      "execution_count": null,
      "metadata": {
        "id": "wXScBVCU5ZKL",
        "outputId": "5ee05060-eec0-41c2-c154-6a7590eb90b5"
      },
      "outputs": [
        {
          "name": "stderr",
          "output_type": "stream",
          "text": [
            "huggingface/tokenizers: The current process just got forked, after parallelism has already been used. Disabling parallelism to avoid deadlocks...\n",
            "To disable this warning, you can either:\n",
            "\t- Avoid using `tokenizers` before the fork if possible\n",
            "\t- Explicitly set the environment variable TOKENIZERS_PARALLELISM=(true | false)\n"
          ]
        },
        {
          "name": "stdout",
          "output_type": "stream",
          "text": [
            "Requirement already satisfied: langchain in /Users/enoriega/github/Generative-AI/.conda/lib/python3.11/site-packages (0.2.16)\n",
            "Requirement already satisfied: langchain_core in /Users/enoriega/github/Generative-AI/.conda/lib/python3.11/site-packages (0.2.38)\n",
            "Requirement already satisfied: langchain_openai in /Users/enoriega/github/Generative-AI/.conda/lib/python3.11/site-packages (0.1.23)\n",
            "Requirement already satisfied: PyYAML>=5.3 in /Users/enoriega/github/Generative-AI/.conda/lib/python3.11/site-packages (from langchain) (6.0.2)\n",
            "Requirement already satisfied: SQLAlchemy<3,>=1.4 in /Users/enoriega/github/Generative-AI/.conda/lib/python3.11/site-packages (from langchain) (2.0.34)\n",
            "Requirement already satisfied: aiohttp<4.0.0,>=3.8.3 in /Users/enoriega/github/Generative-AI/.conda/lib/python3.11/site-packages (from langchain) (3.10.5)\n",
            "Requirement already satisfied: langchain-text-splitters<0.3.0,>=0.2.0 in /Users/enoriega/github/Generative-AI/.conda/lib/python3.11/site-packages (from langchain) (0.2.4)\n",
            "Requirement already satisfied: langsmith<0.2.0,>=0.1.17 in /Users/enoriega/github/Generative-AI/.conda/lib/python3.11/site-packages (from langchain) (0.1.114)\n",
            "Requirement already satisfied: numpy<2,>=1 in /Users/enoriega/github/Generative-AI/.conda/lib/python3.11/site-packages (from langchain) (1.26.4)\n",
            "Requirement already satisfied: pydantic<3,>=1 in /Users/enoriega/github/Generative-AI/.conda/lib/python3.11/site-packages (from langchain) (2.9.0)\n",
            "Requirement already satisfied: requests<3,>=2 in /Users/enoriega/github/Generative-AI/.conda/lib/python3.11/site-packages (from langchain) (2.32.3)\n",
            "Requirement already satisfied: tenacity!=8.4.0,<9.0.0,>=8.1.0 in /Users/enoriega/github/Generative-AI/.conda/lib/python3.11/site-packages (from langchain) (8.5.0)\n",
            "Requirement already satisfied: jsonpatch<2.0,>=1.33 in /Users/enoriega/github/Generative-AI/.conda/lib/python3.11/site-packages (from langchain_core) (1.33)\n",
            "Requirement already satisfied: packaging<25,>=23.2 in /Users/enoriega/github/Generative-AI/.conda/lib/python3.11/site-packages (from langchain_core) (24.1)\n",
            "Requirement already satisfied: typing-extensions>=4.7 in /Users/enoriega/github/Generative-AI/.conda/lib/python3.11/site-packages (from langchain_core) (4.12.2)\n",
            "Requirement already satisfied: openai<2.0.0,>=1.40.0 in /Users/enoriega/github/Generative-AI/.conda/lib/python3.11/site-packages (from langchain_openai) (1.43.0)\n",
            "Requirement already satisfied: tiktoken<1,>=0.7 in /Users/enoriega/github/Generative-AI/.conda/lib/python3.11/site-packages (from langchain_openai) (0.7.0)\n",
            "Requirement already satisfied: aiohappyeyeballs>=2.3.0 in /Users/enoriega/github/Generative-AI/.conda/lib/python3.11/site-packages (from aiohttp<4.0.0,>=3.8.3->langchain) (2.4.0)\n",
            "Requirement already satisfied: aiosignal>=1.1.2 in /Users/enoriega/github/Generative-AI/.conda/lib/python3.11/site-packages (from aiohttp<4.0.0,>=3.8.3->langchain) (1.3.1)\n",
            "Requirement already satisfied: attrs>=17.3.0 in /Users/enoriega/github/Generative-AI/.conda/lib/python3.11/site-packages (from aiohttp<4.0.0,>=3.8.3->langchain) (24.2.0)\n",
            "Requirement already satisfied: frozenlist>=1.1.1 in /Users/enoriega/github/Generative-AI/.conda/lib/python3.11/site-packages (from aiohttp<4.0.0,>=3.8.3->langchain) (1.4.1)\n",
            "Requirement already satisfied: multidict<7.0,>=4.5 in /Users/enoriega/github/Generative-AI/.conda/lib/python3.11/site-packages (from aiohttp<4.0.0,>=3.8.3->langchain) (6.0.5)\n",
            "Requirement already satisfied: yarl<2.0,>=1.0 in /Users/enoriega/github/Generative-AI/.conda/lib/python3.11/site-packages (from aiohttp<4.0.0,>=3.8.3->langchain) (1.9.11)\n",
            "Requirement already satisfied: jsonpointer>=1.9 in /Users/enoriega/github/Generative-AI/.conda/lib/python3.11/site-packages (from jsonpatch<2.0,>=1.33->langchain_core) (3.0.0)\n",
            "Requirement already satisfied: httpx<1,>=0.23.0 in /Users/enoriega/github/Generative-AI/.conda/lib/python3.11/site-packages (from langsmith<0.2.0,>=0.1.17->langchain) (0.27.2)\n",
            "Requirement already satisfied: orjson<4.0.0,>=3.9.14 in /Users/enoriega/github/Generative-AI/.conda/lib/python3.11/site-packages (from langsmith<0.2.0,>=0.1.17->langchain) (3.10.7)\n",
            "Requirement already satisfied: anyio<5,>=3.5.0 in /Users/enoriega/github/Generative-AI/.conda/lib/python3.11/site-packages (from openai<2.0.0,>=1.40.0->langchain_openai) (4.4.0)\n",
            "Requirement already satisfied: distro<2,>=1.7.0 in /Users/enoriega/github/Generative-AI/.conda/lib/python3.11/site-packages (from openai<2.0.0,>=1.40.0->langchain_openai) (1.9.0)\n",
            "Requirement already satisfied: jiter<1,>=0.4.0 in /Users/enoriega/github/Generative-AI/.conda/lib/python3.11/site-packages (from openai<2.0.0,>=1.40.0->langchain_openai) (0.5.0)\n",
            "Requirement already satisfied: sniffio in /Users/enoriega/github/Generative-AI/.conda/lib/python3.11/site-packages (from openai<2.0.0,>=1.40.0->langchain_openai) (1.3.1)\n",
            "Requirement already satisfied: tqdm>4 in /Users/enoriega/github/Generative-AI/.conda/lib/python3.11/site-packages (from openai<2.0.0,>=1.40.0->langchain_openai) (4.66.5)\n",
            "Requirement already satisfied: annotated-types>=0.4.0 in /Users/enoriega/github/Generative-AI/.conda/lib/python3.11/site-packages (from pydantic<3,>=1->langchain) (0.7.0)\n",
            "Requirement already satisfied: pydantic-core==2.23.2 in /Users/enoriega/github/Generative-AI/.conda/lib/python3.11/site-packages (from pydantic<3,>=1->langchain) (2.23.2)\n",
            "Requirement already satisfied: tzdata in /Users/enoriega/github/Generative-AI/.conda/lib/python3.11/site-packages (from pydantic<3,>=1->langchain) (2024.1)\n",
            "Requirement already satisfied: charset-normalizer<4,>=2 in /Users/enoriega/github/Generative-AI/.conda/lib/python3.11/site-packages (from requests<3,>=2->langchain) (3.3.2)\n",
            "Requirement already satisfied: idna<4,>=2.5 in /Users/enoriega/github/Generative-AI/.conda/lib/python3.11/site-packages (from requests<3,>=2->langchain) (3.8)\n",
            "Requirement already satisfied: urllib3<3,>=1.21.1 in /Users/enoriega/github/Generative-AI/.conda/lib/python3.11/site-packages (from requests<3,>=2->langchain) (2.2.2)\n",
            "Requirement already satisfied: certifi>=2017.4.17 in /Users/enoriega/github/Generative-AI/.conda/lib/python3.11/site-packages (from requests<3,>=2->langchain) (2024.8.30)\n",
            "Requirement already satisfied: regex>=2022.1.18 in /Users/enoriega/github/Generative-AI/.conda/lib/python3.11/site-packages (from tiktoken<1,>=0.7->langchain_openai) (2024.7.24)\n",
            "Requirement already satisfied: httpcore==1.* in /Users/enoriega/github/Generative-AI/.conda/lib/python3.11/site-packages (from httpx<1,>=0.23.0->langsmith<0.2.0,>=0.1.17->langchain) (1.0.5)\n",
            "Requirement already satisfied: h11<0.15,>=0.13 in /Users/enoriega/github/Generative-AI/.conda/lib/python3.11/site-packages (from httpcore==1.*->httpx<1,>=0.23.0->langsmith<0.2.0,>=0.1.17->langchain) (0.14.0)\n",
            "Note: you may need to restart the kernel to use updated packages.\n"
          ]
        }
      ],
      "source": [
        "%pip install langchain langchain_core langchain_openai"
      ]
    },
    {
      "cell_type": "code",
      "execution_count": null,
      "metadata": {
        "id": "zfsYpsea5ZKL"
      },
      "outputs": [],
      "source": [
        "from langchain_openai import ChatOpenAI\n",
        "from langchain.prompts import ChatPromptTemplate\n",
        "from langchain_core.output_parsers import StrOutputParser\n",
        "\n",
        "from itertools import chain as itchain\n",
        "\n",
        "import os\n",
        "# os.environ[\"OPENAI_API_KEY\"] = \"...\"\n",
        "\n",
        "API_ENDPOINT = \"https://llm1.cyverse.ai/v1\"\n",
        "\n",
        "llm = ChatOpenAI(model=\"Mistral-7B-Instruct-v0.3\", base_url=API_ENDPOINT)\n",
        "conversation_template = ChatPromptTemplate([\n",
        "    (\"system\", \"Speak like Super Mario Bros. You're in a friendly conversation with a gamer\"),\n",
        "    (\"placeholder\", \"{conversation}\"),\n",
        "    (\"human\", \"{message}\")\n",
        "])\n",
        "\n",
        "chain = conversation_template | llm | StrOutputParser()\n",
        "\n",
        "def send_message(message, history):\n",
        "    history = list(itchain.from_iterable([(\"human\", human), (\"ai\", ai)] for human, ai in history))\n",
        "\n",
        "    return chain.invoke({\"conversation\":history, \"message\":message})"
      ]
    },
    {
      "cell_type": "code",
      "execution_count": null,
      "metadata": {
        "id": "aJP8mCEVrn_J",
        "outputId": "eaec30c0-ee5a-4197-8ccb-1155c05b677e"
      },
      "outputs": [
        {
          "data": {
            "text/html": [
              "<div><iframe src=\"http://127.0.0.1:7860/\" width=\"100%\" height=\"500\" allow=\"autoplay; camera; microphone; clipboard-read; clipboard-write;\" frameborder=\"0\" allowfullscreen></iframe></div>"
            ],
            "text/plain": [
              "<IPython.core.display.HTML object>"
            ]
          },
          "execution_count": 64,
          "metadata": {},
          "output_type": "execute_result"
        }
      ],
      "source": [
        "%%blocks\n",
        "\n",
        "\n",
        "def vote(data: gr.LikeData):\n",
        "    if data.liked:\n",
        "        print(\"You upvoted this response: \" + data.value)\n",
        "    else:\n",
        "        print(\"You downvoted this response: \" + data.value)\n",
        "\n",
        "with gr.Blocks() as demo:\n",
        "    chatbot = gr.Chatbot(placeholder=\"<strong>Your Personal Yes-Man</strong><br>Ask Me Anything\")\n",
        "    chatbot.like(vote, None, None)\n",
        "    gr.ChatInterface(fn=send_message, chatbot=chatbot)"
      ]
    },
    {
      "cell_type": "markdown",
      "metadata": {
        "id": "adgQZSKW5ZKM"
      },
      "source": [
        "## Additional features\n",
        "\n",
        "You can easily [deploy your gradio app in HuggingFace 🤗 spaces](https://huggingface.co/docs/hub/en/spaces-sdks-gradio) for free to showcase your demo.\n",
        "You can also do [client side code using javascript](https://www.gradio.app/guides/custom-CSS-and-JS) and code your custom controls to extend Gradio's functionality.\n",
        "\n",
        "Have fun!"
      ]
    },
    {
      "cell_type": "markdown",
      "metadata": {
        "id": "4Pf4k1D55ZKM"
      },
      "source": []
    }
  ],
  "metadata": {
    "colab": {
      "provenance": []
    },
    "kernelspec": {
      "display_name": "Python 3",
      "name": "python3"
    },
    "language_info": {
      "codemirror_mode": {
        "name": "ipython",
        "version": 3
      },
      "file_extension": ".py",
      "mimetype": "text/x-python",
      "name": "python",
      "nbconvert_exporter": "python",
      "pygments_lexer": "ipython3",
      "version": "3.11.9"
    },
    "widgets": {
      "application/vnd.jupyter.widget-state+json": {
        "03f4e8ad96d645e6a8f0fc03e7ffa659": {
          "model_module": "@jupyter-widgets/controls",
          "model_module_version": "1.5.0",
          "model_name": "HBoxModel",
          "state": {
            "_dom_classes": [],
            "_model_module": "@jupyter-widgets/controls",
            "_model_module_version": "1.5.0",
            "_model_name": "HBoxModel",
            "_view_count": null,
            "_view_module": "@jupyter-widgets/controls",
            "_view_module_version": "1.5.0",
            "_view_name": "HBoxView",
            "box_style": "",
            "children": [
              "IPY_MODEL_fc69d93e1e7e45ffbb1f4c7ae9dab8b3",
              "IPY_MODEL_76ba4b515596409887d654fda5e8dcc5",
              "IPY_MODEL_882bd06af35545328eb0d5168b472c00"
            ],
            "layout": "IPY_MODEL_36cfc328b2b74c27ab7cf3cc2799b818"
          }
        },
        "0a523a210cf5463eb2e6e45857662570": {
          "model_module": "@jupyter-widgets/base",
          "model_module_version": "1.2.0",
          "model_name": "LayoutModel",
          "state": {
            "_model_module": "@jupyter-widgets/base",
            "_model_module_version": "1.2.0",
            "_model_name": "LayoutModel",
            "_view_count": null,
            "_view_module": "@jupyter-widgets/base",
            "_view_module_version": "1.2.0",
            "_view_name": "LayoutView",
            "align_content": null,
            "align_items": null,
            "align_self": null,
            "border": null,
            "bottom": null,
            "display": null,
            "flex": null,
            "flex_flow": null,
            "grid_area": null,
            "grid_auto_columns": null,
            "grid_auto_flow": null,
            "grid_auto_rows": null,
            "grid_column": null,
            "grid_gap": null,
            "grid_row": null,
            "grid_template_areas": null,
            "grid_template_columns": null,
            "grid_template_rows": null,
            "height": null,
            "justify_content": null,
            "justify_items": null,
            "left": null,
            "margin": null,
            "max_height": null,
            "max_width": null,
            "min_height": null,
            "min_width": null,
            "object_fit": null,
            "object_position": null,
            "order": null,
            "overflow": null,
            "overflow_x": null,
            "overflow_y": null,
            "padding": null,
            "right": null,
            "top": null,
            "visibility": null,
            "width": null
          }
        },
        "1116a30cd92a471db520ed9dd4044282": {
          "model_module": "@jupyter-widgets/base",
          "model_module_version": "1.2.0",
          "model_name": "LayoutModel",
          "state": {
            "_model_module": "@jupyter-widgets/base",
            "_model_module_version": "1.2.0",
            "_model_name": "LayoutModel",
            "_view_count": null,
            "_view_module": "@jupyter-widgets/base",
            "_view_module_version": "1.2.0",
            "_view_name": "LayoutView",
            "align_content": null,
            "align_items": null,
            "align_self": null,
            "border": null,
            "bottom": null,
            "display": null,
            "flex": null,
            "flex_flow": null,
            "grid_area": null,
            "grid_auto_columns": null,
            "grid_auto_flow": null,
            "grid_auto_rows": null,
            "grid_column": null,
            "grid_gap": null,
            "grid_row": null,
            "grid_template_areas": null,
            "grid_template_columns": null,
            "grid_template_rows": null,
            "height": null,
            "justify_content": null,
            "justify_items": null,
            "left": null,
            "margin": null,
            "max_height": null,
            "max_width": null,
            "min_height": null,
            "min_width": null,
            "object_fit": null,
            "object_position": null,
            "order": null,
            "overflow": null,
            "overflow_x": null,
            "overflow_y": null,
            "padding": null,
            "right": null,
            "top": null,
            "visibility": null,
            "width": null
          }
        },
        "15b23607ee2f45d396010ea18b63b0a1": {
          "model_module": "@jupyter-widgets/controls",
          "model_module_version": "1.5.0",
          "model_name": "HBoxModel",
          "state": {
            "_dom_classes": [],
            "_model_module": "@jupyter-widgets/controls",
            "_model_module_version": "1.5.0",
            "_model_name": "HBoxModel",
            "_view_count": null,
            "_view_module": "@jupyter-widgets/controls",
            "_view_module_version": "1.5.0",
            "_view_name": "HBoxView",
            "box_style": "",
            "children": [
              "IPY_MODEL_f0f459032e304533bb3ec9839bf61d39",
              "IPY_MODEL_6a080ccee370486cb14115a79d0659c4",
              "IPY_MODEL_36b7602f70ee45099a8ca4ff56b2d59b"
            ],
            "layout": "IPY_MODEL_790d61d26e68426c81e7baf17663cfa8"
          }
        },
        "244295c42dc14c3dba3558e09945abb6": {
          "model_module": "@jupyter-widgets/base",
          "model_module_version": "1.2.0",
          "model_name": "LayoutModel",
          "state": {
            "_model_module": "@jupyter-widgets/base",
            "_model_module_version": "1.2.0",
            "_model_name": "LayoutModel",
            "_view_count": null,
            "_view_module": "@jupyter-widgets/base",
            "_view_module_version": "1.2.0",
            "_view_name": "LayoutView",
            "align_content": null,
            "align_items": null,
            "align_self": null,
            "border": null,
            "bottom": null,
            "display": null,
            "flex": null,
            "flex_flow": null,
            "grid_area": null,
            "grid_auto_columns": null,
            "grid_auto_flow": null,
            "grid_auto_rows": null,
            "grid_column": null,
            "grid_gap": null,
            "grid_row": null,
            "grid_template_areas": null,
            "grid_template_columns": null,
            "grid_template_rows": null,
            "height": null,
            "justify_content": null,
            "justify_items": null,
            "left": null,
            "margin": null,
            "max_height": null,
            "max_width": null,
            "min_height": null,
            "min_width": null,
            "object_fit": null,
            "object_position": null,
            "order": null,
            "overflow": null,
            "overflow_x": null,
            "overflow_y": null,
            "padding": null,
            "right": null,
            "top": null,
            "visibility": null,
            "width": null
          }
        },
        "28e15418b08f49008e91e2d07fc54269": {
          "model_module": "@jupyter-widgets/base",
          "model_module_version": "1.2.0",
          "model_name": "LayoutModel",
          "state": {
            "_model_module": "@jupyter-widgets/base",
            "_model_module_version": "1.2.0",
            "_model_name": "LayoutModel",
            "_view_count": null,
            "_view_module": "@jupyter-widgets/base",
            "_view_module_version": "1.2.0",
            "_view_name": "LayoutView",
            "align_content": null,
            "align_items": null,
            "align_self": null,
            "border": null,
            "bottom": null,
            "display": null,
            "flex": null,
            "flex_flow": null,
            "grid_area": null,
            "grid_auto_columns": null,
            "grid_auto_flow": null,
            "grid_auto_rows": null,
            "grid_column": null,
            "grid_gap": null,
            "grid_row": null,
            "grid_template_areas": null,
            "grid_template_columns": null,
            "grid_template_rows": null,
            "height": null,
            "justify_content": null,
            "justify_items": null,
            "left": null,
            "margin": null,
            "max_height": null,
            "max_width": null,
            "min_height": null,
            "min_width": null,
            "object_fit": null,
            "object_position": null,
            "order": null,
            "overflow": null,
            "overflow_x": null,
            "overflow_y": null,
            "padding": null,
            "right": null,
            "top": null,
            "visibility": null,
            "width": null
          }
        },
        "2f86821c107b4b6996554ff96ad8ebb7": {
          "model_module": "@jupyter-widgets/base",
          "model_module_version": "1.2.0",
          "model_name": "LayoutModel",
          "state": {
            "_model_module": "@jupyter-widgets/base",
            "_model_module_version": "1.2.0",
            "_model_name": "LayoutModel",
            "_view_count": null,
            "_view_module": "@jupyter-widgets/base",
            "_view_module_version": "1.2.0",
            "_view_name": "LayoutView",
            "align_content": null,
            "align_items": null,
            "align_self": null,
            "border": null,
            "bottom": null,
            "display": null,
            "flex": null,
            "flex_flow": null,
            "grid_area": null,
            "grid_auto_columns": null,
            "grid_auto_flow": null,
            "grid_auto_rows": null,
            "grid_column": null,
            "grid_gap": null,
            "grid_row": null,
            "grid_template_areas": null,
            "grid_template_columns": null,
            "grid_template_rows": null,
            "height": null,
            "justify_content": null,
            "justify_items": null,
            "left": null,
            "margin": null,
            "max_height": null,
            "max_width": null,
            "min_height": null,
            "min_width": null,
            "object_fit": null,
            "object_position": null,
            "order": null,
            "overflow": null,
            "overflow_x": null,
            "overflow_y": null,
            "padding": null,
            "right": null,
            "top": null,
            "visibility": null,
            "width": null
          }
        },
        "36b7602f70ee45099a8ca4ff56b2d59b": {
          "model_module": "@jupyter-widgets/controls",
          "model_module_version": "1.5.0",
          "model_name": "HTMLModel",
          "state": {
            "_dom_classes": [],
            "_model_module": "@jupyter-widgets/controls",
            "_model_module_version": "1.5.0",
            "_model_name": "HTMLModel",
            "_view_count": null,
            "_view_module": "@jupyter-widgets/controls",
            "_view_module_version": "1.5.0",
            "_view_name": "HTMLView",
            "description": "",
            "description_tooltip": null,
            "layout": "IPY_MODEL_6255681197074c80b9acc88e6f5014ba",
            "placeholder": "​",
            "style": "IPY_MODEL_a65aba32324e4bcfbbe18ea3b6ce3e05",
            "value": " 48.0/48.0 [00:00&lt;00:00, 3.21kB/s]"
          }
        },
        "36cfc328b2b74c27ab7cf3cc2799b818": {
          "model_module": "@jupyter-widgets/base",
          "model_module_version": "1.2.0",
          "model_name": "LayoutModel",
          "state": {
            "_model_module": "@jupyter-widgets/base",
            "_model_module_version": "1.2.0",
            "_model_name": "LayoutModel",
            "_view_count": null,
            "_view_module": "@jupyter-widgets/base",
            "_view_module_version": "1.2.0",
            "_view_name": "LayoutView",
            "align_content": null,
            "align_items": null,
            "align_self": null,
            "border": null,
            "bottom": null,
            "display": null,
            "flex": null,
            "flex_flow": null,
            "grid_area": null,
            "grid_auto_columns": null,
            "grid_auto_flow": null,
            "grid_auto_rows": null,
            "grid_column": null,
            "grid_gap": null,
            "grid_row": null,
            "grid_template_areas": null,
            "grid_template_columns": null,
            "grid_template_rows": null,
            "height": null,
            "justify_content": null,
            "justify_items": null,
            "left": null,
            "margin": null,
            "max_height": null,
            "max_width": null,
            "min_height": null,
            "min_width": null,
            "object_fit": null,
            "object_position": null,
            "order": null,
            "overflow": null,
            "overflow_x": null,
            "overflow_y": null,
            "padding": null,
            "right": null,
            "top": null,
            "visibility": null,
            "width": null
          }
        },
        "43486d801b204c1488dba33d9b5b1b6a": {
          "model_module": "@jupyter-widgets/controls",
          "model_module_version": "1.5.0",
          "model_name": "HBoxModel",
          "state": {
            "_dom_classes": [],
            "_model_module": "@jupyter-widgets/controls",
            "_model_module_version": "1.5.0",
            "_model_name": "HBoxModel",
            "_view_count": null,
            "_view_module": "@jupyter-widgets/controls",
            "_view_module_version": "1.5.0",
            "_view_name": "HBoxView",
            "box_style": "",
            "children": [
              "IPY_MODEL_b57a7b2ef15842018853f9814e5caa9d",
              "IPY_MODEL_517a8b96db064046b866e9c009b442c7",
              "IPY_MODEL_bfc29c99f0e441088b926766d5cec4b5"
            ],
            "layout": "IPY_MODEL_915fea9fdf034144a183feb7bec638c2"
          }
        },
        "44c9952345704039b8935376d547b813": {
          "model_module": "@jupyter-widgets/base",
          "model_module_version": "1.2.0",
          "model_name": "LayoutModel",
          "state": {
            "_model_module": "@jupyter-widgets/base",
            "_model_module_version": "1.2.0",
            "_model_name": "LayoutModel",
            "_view_count": null,
            "_view_module": "@jupyter-widgets/base",
            "_view_module_version": "1.2.0",
            "_view_name": "LayoutView",
            "align_content": null,
            "align_items": null,
            "align_self": null,
            "border": null,
            "bottom": null,
            "display": null,
            "flex": null,
            "flex_flow": null,
            "grid_area": null,
            "grid_auto_columns": null,
            "grid_auto_flow": null,
            "grid_auto_rows": null,
            "grid_column": null,
            "grid_gap": null,
            "grid_row": null,
            "grid_template_areas": null,
            "grid_template_columns": null,
            "grid_template_rows": null,
            "height": null,
            "justify_content": null,
            "justify_items": null,
            "left": null,
            "margin": null,
            "max_height": null,
            "max_width": null,
            "min_height": null,
            "min_width": null,
            "object_fit": null,
            "object_position": null,
            "order": null,
            "overflow": null,
            "overflow_x": null,
            "overflow_y": null,
            "padding": null,
            "right": null,
            "top": null,
            "visibility": null,
            "width": null
          }
        },
        "467c841cc441469eb9b6df981a16dc0d": {
          "model_module": "@jupyter-widgets/base",
          "model_module_version": "1.2.0",
          "model_name": "LayoutModel",
          "state": {
            "_model_module": "@jupyter-widgets/base",
            "_model_module_version": "1.2.0",
            "_model_name": "LayoutModel",
            "_view_count": null,
            "_view_module": "@jupyter-widgets/base",
            "_view_module_version": "1.2.0",
            "_view_name": "LayoutView",
            "align_content": null,
            "align_items": null,
            "align_self": null,
            "border": null,
            "bottom": null,
            "display": null,
            "flex": null,
            "flex_flow": null,
            "grid_area": null,
            "grid_auto_columns": null,
            "grid_auto_flow": null,
            "grid_auto_rows": null,
            "grid_column": null,
            "grid_gap": null,
            "grid_row": null,
            "grid_template_areas": null,
            "grid_template_columns": null,
            "grid_template_rows": null,
            "height": null,
            "justify_content": null,
            "justify_items": null,
            "left": null,
            "margin": null,
            "max_height": null,
            "max_width": null,
            "min_height": null,
            "min_width": null,
            "object_fit": null,
            "object_position": null,
            "order": null,
            "overflow": null,
            "overflow_x": null,
            "overflow_y": null,
            "padding": null,
            "right": null,
            "top": null,
            "visibility": null,
            "width": null
          }
        },
        "47b31b67ad784d75bb0db531f5dc8975": {
          "model_module": "@jupyter-widgets/controls",
          "model_module_version": "1.5.0",
          "model_name": "ProgressStyleModel",
          "state": {
            "_model_module": "@jupyter-widgets/controls",
            "_model_module_version": "1.5.0",
            "_model_name": "ProgressStyleModel",
            "_view_count": null,
            "_view_module": "@jupyter-widgets/base",
            "_view_module_version": "1.2.0",
            "_view_name": "StyleView",
            "bar_color": null,
            "description_width": ""
          }
        },
        "517a8b96db064046b866e9c009b442c7": {
          "model_module": "@jupyter-widgets/controls",
          "model_module_version": "1.5.0",
          "model_name": "FloatProgressModel",
          "state": {
            "_dom_classes": [],
            "_model_module": "@jupyter-widgets/controls",
            "_model_module_version": "1.5.0",
            "_model_name": "FloatProgressModel",
            "_view_count": null,
            "_view_module": "@jupyter-widgets/controls",
            "_view_module_version": "1.5.0",
            "_view_name": "ProgressView",
            "bar_style": "success",
            "description": "",
            "description_tooltip": null,
            "layout": "IPY_MODEL_1116a30cd92a471db520ed9dd4044282",
            "max": 231508,
            "min": 0,
            "orientation": "horizontal",
            "style": "IPY_MODEL_d96380ba491b4e4db0d203636042a98e",
            "value": 231508
          }
        },
        "59a16782372a43e89e6199a47e300ecb": {
          "model_module": "@jupyter-widgets/controls",
          "model_module_version": "1.5.0",
          "model_name": "ProgressStyleModel",
          "state": {
            "_model_module": "@jupyter-widgets/controls",
            "_model_module_version": "1.5.0",
            "_model_name": "ProgressStyleModel",
            "_view_count": null,
            "_view_module": "@jupyter-widgets/base",
            "_view_module_version": "1.2.0",
            "_view_name": "StyleView",
            "bar_color": null,
            "description_width": ""
          }
        },
        "6255681197074c80b9acc88e6f5014ba": {
          "model_module": "@jupyter-widgets/base",
          "model_module_version": "1.2.0",
          "model_name": "LayoutModel",
          "state": {
            "_model_module": "@jupyter-widgets/base",
            "_model_module_version": "1.2.0",
            "_model_name": "LayoutModel",
            "_view_count": null,
            "_view_module": "@jupyter-widgets/base",
            "_view_module_version": "1.2.0",
            "_view_name": "LayoutView",
            "align_content": null,
            "align_items": null,
            "align_self": null,
            "border": null,
            "bottom": null,
            "display": null,
            "flex": null,
            "flex_flow": null,
            "grid_area": null,
            "grid_auto_columns": null,
            "grid_auto_flow": null,
            "grid_auto_rows": null,
            "grid_column": null,
            "grid_gap": null,
            "grid_row": null,
            "grid_template_areas": null,
            "grid_template_columns": null,
            "grid_template_rows": null,
            "height": null,
            "justify_content": null,
            "justify_items": null,
            "left": null,
            "margin": null,
            "max_height": null,
            "max_width": null,
            "min_height": null,
            "min_width": null,
            "object_fit": null,
            "object_position": null,
            "order": null,
            "overflow": null,
            "overflow_x": null,
            "overflow_y": null,
            "padding": null,
            "right": null,
            "top": null,
            "visibility": null,
            "width": null
          }
        },
        "6a080ccee370486cb14115a79d0659c4": {
          "model_module": "@jupyter-widgets/controls",
          "model_module_version": "1.5.0",
          "model_name": "FloatProgressModel",
          "state": {
            "_dom_classes": [],
            "_model_module": "@jupyter-widgets/controls",
            "_model_module_version": "1.5.0",
            "_model_name": "FloatProgressModel",
            "_view_count": null,
            "_view_module": "@jupyter-widgets/controls",
            "_view_module_version": "1.5.0",
            "_view_name": "ProgressView",
            "bar_style": "success",
            "description": "",
            "description_tooltip": null,
            "layout": "IPY_MODEL_fbb64f7614a548429858cb982fa3980a",
            "max": 48,
            "min": 0,
            "orientation": "horizontal",
            "style": "IPY_MODEL_47b31b67ad784d75bb0db531f5dc8975",
            "value": 48
          }
        },
        "6cff460037734d7c9e658645352913f2": {
          "model_module": "@jupyter-widgets/controls",
          "model_module_version": "1.5.0",
          "model_name": "DescriptionStyleModel",
          "state": {
            "_model_module": "@jupyter-widgets/controls",
            "_model_module_version": "1.5.0",
            "_model_name": "DescriptionStyleModel",
            "_view_count": null,
            "_view_module": "@jupyter-widgets/base",
            "_view_module_version": "1.2.0",
            "_view_name": "StyleView",
            "description_width": ""
          }
        },
        "76ba4b515596409887d654fda5e8dcc5": {
          "model_module": "@jupyter-widgets/controls",
          "model_module_version": "1.5.0",
          "model_name": "FloatProgressModel",
          "state": {
            "_dom_classes": [],
            "_model_module": "@jupyter-widgets/controls",
            "_model_module_version": "1.5.0",
            "_model_name": "FloatProgressModel",
            "_view_count": null,
            "_view_module": "@jupyter-widgets/controls",
            "_view_module_version": "1.5.0",
            "_view_name": "ProgressView",
            "bar_style": "success",
            "description": "",
            "description_tooltip": null,
            "layout": "IPY_MODEL_8fb1dadfa396482e81de6f2591bfc4e9",
            "max": 267832558,
            "min": 0,
            "orientation": "horizontal",
            "style": "IPY_MODEL_59a16782372a43e89e6199a47e300ecb",
            "value": 267832558
          }
        },
        "790d61d26e68426c81e7baf17663cfa8": {
          "model_module": "@jupyter-widgets/base",
          "model_module_version": "1.2.0",
          "model_name": "LayoutModel",
          "state": {
            "_model_module": "@jupyter-widgets/base",
            "_model_module_version": "1.2.0",
            "_model_name": "LayoutModel",
            "_view_count": null,
            "_view_module": "@jupyter-widgets/base",
            "_view_module_version": "1.2.0",
            "_view_name": "LayoutView",
            "align_content": null,
            "align_items": null,
            "align_self": null,
            "border": null,
            "bottom": null,
            "display": null,
            "flex": null,
            "flex_flow": null,
            "grid_area": null,
            "grid_auto_columns": null,
            "grid_auto_flow": null,
            "grid_auto_rows": null,
            "grid_column": null,
            "grid_gap": null,
            "grid_row": null,
            "grid_template_areas": null,
            "grid_template_columns": null,
            "grid_template_rows": null,
            "height": null,
            "justify_content": null,
            "justify_items": null,
            "left": null,
            "margin": null,
            "max_height": null,
            "max_width": null,
            "min_height": null,
            "min_width": null,
            "object_fit": null,
            "object_position": null,
            "order": null,
            "overflow": null,
            "overflow_x": null,
            "overflow_y": null,
            "padding": null,
            "right": null,
            "top": null,
            "visibility": null,
            "width": null
          }
        },
        "7e72aa49768046d4b21051cdb6f3fcb6": {
          "model_module": "@jupyter-widgets/controls",
          "model_module_version": "1.5.0",
          "model_name": "HBoxModel",
          "state": {
            "_dom_classes": [],
            "_model_module": "@jupyter-widgets/controls",
            "_model_module_version": "1.5.0",
            "_model_name": "HBoxModel",
            "_view_count": null,
            "_view_module": "@jupyter-widgets/controls",
            "_view_module_version": "1.5.0",
            "_view_name": "HBoxView",
            "box_style": "",
            "children": [
              "IPY_MODEL_b4dd2f26424544d8b6d8c9d0dba7d105",
              "IPY_MODEL_88bf01b6de5948eb88eba14baad394bb",
              "IPY_MODEL_903d1fc8dd9c4394b452aab478afed15"
            ],
            "layout": "IPY_MODEL_467c841cc441469eb9b6df981a16dc0d"
          }
        },
        "7f25d2d0d5a3491bb00dd08a424fca2c": {
          "model_module": "@jupyter-widgets/base",
          "model_module_version": "1.2.0",
          "model_name": "LayoutModel",
          "state": {
            "_model_module": "@jupyter-widgets/base",
            "_model_module_version": "1.2.0",
            "_model_name": "LayoutModel",
            "_view_count": null,
            "_view_module": "@jupyter-widgets/base",
            "_view_module_version": "1.2.0",
            "_view_name": "LayoutView",
            "align_content": null,
            "align_items": null,
            "align_self": null,
            "border": null,
            "bottom": null,
            "display": null,
            "flex": null,
            "flex_flow": null,
            "grid_area": null,
            "grid_auto_columns": null,
            "grid_auto_flow": null,
            "grid_auto_rows": null,
            "grid_column": null,
            "grid_gap": null,
            "grid_row": null,
            "grid_template_areas": null,
            "grid_template_columns": null,
            "grid_template_rows": null,
            "height": null,
            "justify_content": null,
            "justify_items": null,
            "left": null,
            "margin": null,
            "max_height": null,
            "max_width": null,
            "min_height": null,
            "min_width": null,
            "object_fit": null,
            "object_position": null,
            "order": null,
            "overflow": null,
            "overflow_x": null,
            "overflow_y": null,
            "padding": null,
            "right": null,
            "top": null,
            "visibility": null,
            "width": null
          }
        },
        "8001afd62a42469aa6b7d2265003ca13": {
          "model_module": "@jupyter-widgets/controls",
          "model_module_version": "1.5.0",
          "model_name": "DescriptionStyleModel",
          "state": {
            "_model_module": "@jupyter-widgets/controls",
            "_model_module_version": "1.5.0",
            "_model_name": "DescriptionStyleModel",
            "_view_count": null,
            "_view_module": "@jupyter-widgets/base",
            "_view_module_version": "1.2.0",
            "_view_name": "StyleView",
            "description_width": ""
          }
        },
        "80b69dac00074cdb8a7334d9106623ea": {
          "model_module": "@jupyter-widgets/controls",
          "model_module_version": "1.5.0",
          "model_name": "DescriptionStyleModel",
          "state": {
            "_model_module": "@jupyter-widgets/controls",
            "_model_module_version": "1.5.0",
            "_model_name": "DescriptionStyleModel",
            "_view_count": null,
            "_view_module": "@jupyter-widgets/base",
            "_view_module_version": "1.2.0",
            "_view_name": "StyleView",
            "description_width": ""
          }
        },
        "882bd06af35545328eb0d5168b472c00": {
          "model_module": "@jupyter-widgets/controls",
          "model_module_version": "1.5.0",
          "model_name": "HTMLModel",
          "state": {
            "_dom_classes": [],
            "_model_module": "@jupyter-widgets/controls",
            "_model_module_version": "1.5.0",
            "_model_name": "HTMLModel",
            "_view_count": null,
            "_view_module": "@jupyter-widgets/controls",
            "_view_module_version": "1.5.0",
            "_view_name": "HTMLView",
            "description": "",
            "description_tooltip": null,
            "layout": "IPY_MODEL_0a523a210cf5463eb2e6e45857662570",
            "placeholder": "​",
            "style": "IPY_MODEL_e9a49ff007b641ae8453f10b2131a5f8",
            "value": " 268M/268M [00:02&lt;00:00, 152MB/s]"
          }
        },
        "88bf01b6de5948eb88eba14baad394bb": {
          "model_module": "@jupyter-widgets/controls",
          "model_module_version": "1.5.0",
          "model_name": "FloatProgressModel",
          "state": {
            "_dom_classes": [],
            "_model_module": "@jupyter-widgets/controls",
            "_model_module_version": "1.5.0",
            "_model_name": "FloatProgressModel",
            "_view_count": null,
            "_view_module": "@jupyter-widgets/controls",
            "_view_module_version": "1.5.0",
            "_view_name": "ProgressView",
            "bar_style": "success",
            "description": "",
            "description_tooltip": null,
            "layout": "IPY_MODEL_ac6167fabe9e47acaed7041156ba6512",
            "max": 629,
            "min": 0,
            "orientation": "horizontal",
            "style": "IPY_MODEL_feca8fe34ef74ea4afffdb249ffc9a74",
            "value": 629
          }
        },
        "8fb1dadfa396482e81de6f2591bfc4e9": {
          "model_module": "@jupyter-widgets/base",
          "model_module_version": "1.2.0",
          "model_name": "LayoutModel",
          "state": {
            "_model_module": "@jupyter-widgets/base",
            "_model_module_version": "1.2.0",
            "_model_name": "LayoutModel",
            "_view_count": null,
            "_view_module": "@jupyter-widgets/base",
            "_view_module_version": "1.2.0",
            "_view_name": "LayoutView",
            "align_content": null,
            "align_items": null,
            "align_self": null,
            "border": null,
            "bottom": null,
            "display": null,
            "flex": null,
            "flex_flow": null,
            "grid_area": null,
            "grid_auto_columns": null,
            "grid_auto_flow": null,
            "grid_auto_rows": null,
            "grid_column": null,
            "grid_gap": null,
            "grid_row": null,
            "grid_template_areas": null,
            "grid_template_columns": null,
            "grid_template_rows": null,
            "height": null,
            "justify_content": null,
            "justify_items": null,
            "left": null,
            "margin": null,
            "max_height": null,
            "max_width": null,
            "min_height": null,
            "min_width": null,
            "object_fit": null,
            "object_position": null,
            "order": null,
            "overflow": null,
            "overflow_x": null,
            "overflow_y": null,
            "padding": null,
            "right": null,
            "top": null,
            "visibility": null,
            "width": null
          }
        },
        "903d1fc8dd9c4394b452aab478afed15": {
          "model_module": "@jupyter-widgets/controls",
          "model_module_version": "1.5.0",
          "model_name": "HTMLModel",
          "state": {
            "_dom_classes": [],
            "_model_module": "@jupyter-widgets/controls",
            "_model_module_version": "1.5.0",
            "_model_name": "HTMLModel",
            "_view_count": null,
            "_view_module": "@jupyter-widgets/controls",
            "_view_module_version": "1.5.0",
            "_view_name": "HTMLView",
            "description": "",
            "description_tooltip": null,
            "layout": "IPY_MODEL_7f25d2d0d5a3491bb00dd08a424fca2c",
            "placeholder": "​",
            "style": "IPY_MODEL_6cff460037734d7c9e658645352913f2",
            "value": " 629/629 [00:00&lt;00:00, 13.9kB/s]"
          }
        },
        "915fea9fdf034144a183feb7bec638c2": {
          "model_module": "@jupyter-widgets/base",
          "model_module_version": "1.2.0",
          "model_name": "LayoutModel",
          "state": {
            "_model_module": "@jupyter-widgets/base",
            "_model_module_version": "1.2.0",
            "_model_name": "LayoutModel",
            "_view_count": null,
            "_view_module": "@jupyter-widgets/base",
            "_view_module_version": "1.2.0",
            "_view_name": "LayoutView",
            "align_content": null,
            "align_items": null,
            "align_self": null,
            "border": null,
            "bottom": null,
            "display": null,
            "flex": null,
            "flex_flow": null,
            "grid_area": null,
            "grid_auto_columns": null,
            "grid_auto_flow": null,
            "grid_auto_rows": null,
            "grid_column": null,
            "grid_gap": null,
            "grid_row": null,
            "grid_template_areas": null,
            "grid_template_columns": null,
            "grid_template_rows": null,
            "height": null,
            "justify_content": null,
            "justify_items": null,
            "left": null,
            "margin": null,
            "max_height": null,
            "max_width": null,
            "min_height": null,
            "min_width": null,
            "object_fit": null,
            "object_position": null,
            "order": null,
            "overflow": null,
            "overflow_x": null,
            "overflow_y": null,
            "padding": null,
            "right": null,
            "top": null,
            "visibility": null,
            "width": null
          }
        },
        "a65aba32324e4bcfbbe18ea3b6ce3e05": {
          "model_module": "@jupyter-widgets/controls",
          "model_module_version": "1.5.0",
          "model_name": "DescriptionStyleModel",
          "state": {
            "_model_module": "@jupyter-widgets/controls",
            "_model_module_version": "1.5.0",
            "_model_name": "DescriptionStyleModel",
            "_view_count": null,
            "_view_module": "@jupyter-widgets/base",
            "_view_module_version": "1.2.0",
            "_view_name": "StyleView",
            "description_width": ""
          }
        },
        "ac6167fabe9e47acaed7041156ba6512": {
          "model_module": "@jupyter-widgets/base",
          "model_module_version": "1.2.0",
          "model_name": "LayoutModel",
          "state": {
            "_model_module": "@jupyter-widgets/base",
            "_model_module_version": "1.2.0",
            "_model_name": "LayoutModel",
            "_view_count": null,
            "_view_module": "@jupyter-widgets/base",
            "_view_module_version": "1.2.0",
            "_view_name": "LayoutView",
            "align_content": null,
            "align_items": null,
            "align_self": null,
            "border": null,
            "bottom": null,
            "display": null,
            "flex": null,
            "flex_flow": null,
            "grid_area": null,
            "grid_auto_columns": null,
            "grid_auto_flow": null,
            "grid_auto_rows": null,
            "grid_column": null,
            "grid_gap": null,
            "grid_row": null,
            "grid_template_areas": null,
            "grid_template_columns": null,
            "grid_template_rows": null,
            "height": null,
            "justify_content": null,
            "justify_items": null,
            "left": null,
            "margin": null,
            "max_height": null,
            "max_width": null,
            "min_height": null,
            "min_width": null,
            "object_fit": null,
            "object_position": null,
            "order": null,
            "overflow": null,
            "overflow_x": null,
            "overflow_y": null,
            "padding": null,
            "right": null,
            "top": null,
            "visibility": null,
            "width": null
          }
        },
        "b4dd2f26424544d8b6d8c9d0dba7d105": {
          "model_module": "@jupyter-widgets/controls",
          "model_module_version": "1.5.0",
          "model_name": "HTMLModel",
          "state": {
            "_dom_classes": [],
            "_model_module": "@jupyter-widgets/controls",
            "_model_module_version": "1.5.0",
            "_model_name": "HTMLModel",
            "_view_count": null,
            "_view_module": "@jupyter-widgets/controls",
            "_view_module_version": "1.5.0",
            "_view_name": "HTMLView",
            "description": "",
            "description_tooltip": null,
            "layout": "IPY_MODEL_244295c42dc14c3dba3558e09945abb6",
            "placeholder": "​",
            "style": "IPY_MODEL_d80eb532ef1a47fe87feba1c21333f3e",
            "value": "config.json: 100%"
          }
        },
        "b57a7b2ef15842018853f9814e5caa9d": {
          "model_module": "@jupyter-widgets/controls",
          "model_module_version": "1.5.0",
          "model_name": "HTMLModel",
          "state": {
            "_dom_classes": [],
            "_model_module": "@jupyter-widgets/controls",
            "_model_module_version": "1.5.0",
            "_model_name": "HTMLModel",
            "_view_count": null,
            "_view_module": "@jupyter-widgets/controls",
            "_view_module_version": "1.5.0",
            "_view_name": "HTMLView",
            "description": "",
            "description_tooltip": null,
            "layout": "IPY_MODEL_28e15418b08f49008e91e2d07fc54269",
            "placeholder": "​",
            "style": "IPY_MODEL_e1990b3335d24c1b93977e8b7b956c18",
            "value": "vocab.txt: 100%"
          }
        },
        "bfc29c99f0e441088b926766d5cec4b5": {
          "model_module": "@jupyter-widgets/controls",
          "model_module_version": "1.5.0",
          "model_name": "HTMLModel",
          "state": {
            "_dom_classes": [],
            "_model_module": "@jupyter-widgets/controls",
            "_model_module_version": "1.5.0",
            "_model_name": "HTMLModel",
            "_view_count": null,
            "_view_module": "@jupyter-widgets/controls",
            "_view_module_version": "1.5.0",
            "_view_name": "HTMLView",
            "description": "",
            "description_tooltip": null,
            "layout": "IPY_MODEL_44c9952345704039b8935376d547b813",
            "placeholder": "​",
            "style": "IPY_MODEL_ebfb5d3bfa894a9080827b750b3ac6d3",
            "value": " 232k/232k [00:00&lt;00:00, 4.14MB/s]"
          }
        },
        "d80eb532ef1a47fe87feba1c21333f3e": {
          "model_module": "@jupyter-widgets/controls",
          "model_module_version": "1.5.0",
          "model_name": "DescriptionStyleModel",
          "state": {
            "_model_module": "@jupyter-widgets/controls",
            "_model_module_version": "1.5.0",
            "_model_name": "DescriptionStyleModel",
            "_view_count": null,
            "_view_module": "@jupyter-widgets/base",
            "_view_module_version": "1.2.0",
            "_view_name": "StyleView",
            "description_width": ""
          }
        },
        "d9105711034f48979508daafb3d009ff": {
          "model_module": "@jupyter-widgets/base",
          "model_module_version": "1.2.0",
          "model_name": "LayoutModel",
          "state": {
            "_model_module": "@jupyter-widgets/base",
            "_model_module_version": "1.2.0",
            "_model_name": "LayoutModel",
            "_view_count": null,
            "_view_module": "@jupyter-widgets/base",
            "_view_module_version": "1.2.0",
            "_view_name": "LayoutView",
            "align_content": null,
            "align_items": null,
            "align_self": null,
            "border": null,
            "bottom": null,
            "display": null,
            "flex": null,
            "flex_flow": null,
            "grid_area": null,
            "grid_auto_columns": null,
            "grid_auto_flow": null,
            "grid_auto_rows": null,
            "grid_column": null,
            "grid_gap": null,
            "grid_row": null,
            "grid_template_areas": null,
            "grid_template_columns": null,
            "grid_template_rows": null,
            "height": null,
            "justify_content": null,
            "justify_items": null,
            "left": null,
            "margin": null,
            "max_height": null,
            "max_width": null,
            "min_height": null,
            "min_width": null,
            "object_fit": null,
            "object_position": null,
            "order": null,
            "overflow": null,
            "overflow_x": null,
            "overflow_y": null,
            "padding": null,
            "right": null,
            "top": null,
            "visibility": null,
            "width": null
          }
        },
        "d96380ba491b4e4db0d203636042a98e": {
          "model_module": "@jupyter-widgets/controls",
          "model_module_version": "1.5.0",
          "model_name": "ProgressStyleModel",
          "state": {
            "_model_module": "@jupyter-widgets/controls",
            "_model_module_version": "1.5.0",
            "_model_name": "ProgressStyleModel",
            "_view_count": null,
            "_view_module": "@jupyter-widgets/base",
            "_view_module_version": "1.2.0",
            "_view_name": "StyleView",
            "bar_color": null,
            "description_width": ""
          }
        },
        "e1990b3335d24c1b93977e8b7b956c18": {
          "model_module": "@jupyter-widgets/controls",
          "model_module_version": "1.5.0",
          "model_name": "DescriptionStyleModel",
          "state": {
            "_model_module": "@jupyter-widgets/controls",
            "_model_module_version": "1.5.0",
            "_model_name": "DescriptionStyleModel",
            "_view_count": null,
            "_view_module": "@jupyter-widgets/base",
            "_view_module_version": "1.2.0",
            "_view_name": "StyleView",
            "description_width": ""
          }
        },
        "e9a49ff007b641ae8453f10b2131a5f8": {
          "model_module": "@jupyter-widgets/controls",
          "model_module_version": "1.5.0",
          "model_name": "DescriptionStyleModel",
          "state": {
            "_model_module": "@jupyter-widgets/controls",
            "_model_module_version": "1.5.0",
            "_model_name": "DescriptionStyleModel",
            "_view_count": null,
            "_view_module": "@jupyter-widgets/base",
            "_view_module_version": "1.2.0",
            "_view_name": "StyleView",
            "description_width": ""
          }
        },
        "ebfb5d3bfa894a9080827b750b3ac6d3": {
          "model_module": "@jupyter-widgets/controls",
          "model_module_version": "1.5.0",
          "model_name": "DescriptionStyleModel",
          "state": {
            "_model_module": "@jupyter-widgets/controls",
            "_model_module_version": "1.5.0",
            "_model_name": "DescriptionStyleModel",
            "_view_count": null,
            "_view_module": "@jupyter-widgets/base",
            "_view_module_version": "1.2.0",
            "_view_name": "StyleView",
            "description_width": ""
          }
        },
        "f0f459032e304533bb3ec9839bf61d39": {
          "model_module": "@jupyter-widgets/controls",
          "model_module_version": "1.5.0",
          "model_name": "HTMLModel",
          "state": {
            "_dom_classes": [],
            "_model_module": "@jupyter-widgets/controls",
            "_model_module_version": "1.5.0",
            "_model_name": "HTMLModel",
            "_view_count": null,
            "_view_module": "@jupyter-widgets/controls",
            "_view_module_version": "1.5.0",
            "_view_name": "HTMLView",
            "description": "",
            "description_tooltip": null,
            "layout": "IPY_MODEL_2f86821c107b4b6996554ff96ad8ebb7",
            "placeholder": "​",
            "style": "IPY_MODEL_80b69dac00074cdb8a7334d9106623ea",
            "value": "tokenizer_config.json: 100%"
          }
        },
        "fbb64f7614a548429858cb982fa3980a": {
          "model_module": "@jupyter-widgets/base",
          "model_module_version": "1.2.0",
          "model_name": "LayoutModel",
          "state": {
            "_model_module": "@jupyter-widgets/base",
            "_model_module_version": "1.2.0",
            "_model_name": "LayoutModel",
            "_view_count": null,
            "_view_module": "@jupyter-widgets/base",
            "_view_module_version": "1.2.0",
            "_view_name": "LayoutView",
            "align_content": null,
            "align_items": null,
            "align_self": null,
            "border": null,
            "bottom": null,
            "display": null,
            "flex": null,
            "flex_flow": null,
            "grid_area": null,
            "grid_auto_columns": null,
            "grid_auto_flow": null,
            "grid_auto_rows": null,
            "grid_column": null,
            "grid_gap": null,
            "grid_row": null,
            "grid_template_areas": null,
            "grid_template_columns": null,
            "grid_template_rows": null,
            "height": null,
            "justify_content": null,
            "justify_items": null,
            "left": null,
            "margin": null,
            "max_height": null,
            "max_width": null,
            "min_height": null,
            "min_width": null,
            "object_fit": null,
            "object_position": null,
            "order": null,
            "overflow": null,
            "overflow_x": null,
            "overflow_y": null,
            "padding": null,
            "right": null,
            "top": null,
            "visibility": null,
            "width": null
          }
        },
        "fc69d93e1e7e45ffbb1f4c7ae9dab8b3": {
          "model_module": "@jupyter-widgets/controls",
          "model_module_version": "1.5.0",
          "model_name": "HTMLModel",
          "state": {
            "_dom_classes": [],
            "_model_module": "@jupyter-widgets/controls",
            "_model_module_version": "1.5.0",
            "_model_name": "HTMLModel",
            "_view_count": null,
            "_view_module": "@jupyter-widgets/controls",
            "_view_module_version": "1.5.0",
            "_view_name": "HTMLView",
            "description": "",
            "description_tooltip": null,
            "layout": "IPY_MODEL_d9105711034f48979508daafb3d009ff",
            "placeholder": "​",
            "style": "IPY_MODEL_8001afd62a42469aa6b7d2265003ca13",
            "value": "model.safetensors: 100%"
          }
        },
        "feca8fe34ef74ea4afffdb249ffc9a74": {
          "model_module": "@jupyter-widgets/controls",
          "model_module_version": "1.5.0",
          "model_name": "ProgressStyleModel",
          "state": {
            "_model_module": "@jupyter-widgets/controls",
            "_model_module_version": "1.5.0",
            "_model_name": "ProgressStyleModel",
            "_view_count": null,
            "_view_module": "@jupyter-widgets/base",
            "_view_module_version": "1.2.0",
            "_view_name": "StyleView",
            "bar_color": null,
            "description_width": ""
          }
        }
      }
    }
  },
  "nbformat": 4,
  "nbformat_minor": 0
}